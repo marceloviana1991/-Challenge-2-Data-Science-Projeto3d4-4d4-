{
  "nbformat": 4,
  "nbformat_minor": 0,
  "metadata": {
    "colab": {
      "provenance": []
    },
    "kernelspec": {
      "name": "python3",
      "display_name": "Python 3"
    },
    "language_info": {
      "name": "python"
    }
  },
  "cells": [
    {
      "cell_type": "markdown",
      "source": [
        "#Preparação do Ambiente\n",
        "\n",
        "Foi solicitado a elaboração de um recomendador de imóveis.\n",
        "\n",
        "Esse recomendador toma como referência o bairro onde o imóvel está localizado.\n",
        "\n",
        "O problema é que o data frame possui n bairros diferentes e isso limitaria demaseadamente o recomendador, pois aparentemente não existe registros, além das 4 zonas, que possam referenciar os bairros, limitando a recomendação a bairro e zona.\n",
        "\n",
        "O objetivo é utilizar as outras informações armazenadas no data frame para referenciar bairros diferentes que possuem características semelhantes ou um grupo de imóveis de um mesmo bairro que possui um número muito alto de imóveis registrados."
      ],
      "metadata": {
        "id": "ffTm2a6R6t6C"
      }
    },
    {
      "cell_type": "code",
      "execution_count": 1,
      "metadata": {
        "colab": {
          "base_uri": "https://localhost:8080/"
        },
        "id": "0bf4c_Pq4Myk",
        "outputId": "34141f59-3c92-49c3-824b-187853d13da0"
      },
      "outputs": [
        {
          "output_type": "stream",
          "name": "stdout",
          "text": [
            "Looking in indexes: https://pypi.org/simple, https://us-python.pkg.dev/colab-wheels/public/simple/\n",
            "Collecting pyspark==3.3.1\n",
            "  Downloading pyspark-3.3.1.tar.gz (281.4 MB)\n",
            "\u001b[K     |████████████████████████████████| 281.4 MB 45 kB/s \n",
            "\u001b[?25hCollecting py4j==0.10.9.5\n",
            "  Downloading py4j-0.10.9.5-py2.py3-none-any.whl (199 kB)\n",
            "\u001b[K     |████████████████████████████████| 199 kB 52.3 MB/s \n",
            "\u001b[?25hBuilding wheels for collected packages: pyspark\n",
            "  Building wheel for pyspark (setup.py) ... \u001b[?25l\u001b[?25hdone\n",
            "  Created wheel for pyspark: filename=pyspark-3.3.1-py2.py3-none-any.whl size=281845512 sha256=65ad833e9d7a9e4168f0129db21252bfa984cafea4b23591d3701d631fc6a469\n",
            "  Stored in directory: /root/.cache/pip/wheels/43/dc/11/ec201cd671da62fa9c5cc77078235e40722170ceba231d7598\n",
            "Successfully built pyspark\n",
            "Installing collected packages: py4j, pyspark\n",
            "Successfully installed py4j-0.10.9.5 pyspark-3.3.1\n"
          ]
        }
      ],
      "source": [
        "#instalação da biblioteca pyspark\n",
        "!pip install pyspark==3.3.1"
      ]
    },
    {
      "cell_type": "code",
      "source": [
        "#importando a função SparkSession da biblioteca pyspark.sql\n",
        "from pyspark.sql import SparkSession"
      ],
      "metadata": {
        "id": "uzRR8u2l4l3g"
      },
      "execution_count": 2,
      "outputs": []
    },
    {
      "cell_type": "code",
      "source": [
        "#criando a sessão spark\n",
        "spark = SparkSession.builder.master('local[*]').appName(\"Transformacao com Spark\").getOrCreate()\n",
        "\n",
        "spark"
      ],
      "metadata": {
        "colab": {
          "base_uri": "https://localhost:8080/",
          "height": 219
        },
        "id": "Weq5abZj4t8l",
        "outputId": "fc09caa6-9ffc-4445-bd84-21485d738569"
      },
      "execution_count": 3,
      "outputs": [
        {
          "output_type": "execute_result",
          "data": {
            "text/plain": [
              "<pyspark.sql.session.SparkSession at 0x7f6baf810ac0>"
            ],
            "text/html": [
              "\n",
              "            <div>\n",
              "                <p><b>SparkSession - in-memory</b></p>\n",
              "                \n",
              "        <div>\n",
              "            <p><b>SparkContext</b></p>\n",
              "\n",
              "            <p><a href=\"http://34cae64cbfc7:4040\">Spark UI</a></p>\n",
              "\n",
              "            <dl>\n",
              "              <dt>Version</dt>\n",
              "                <dd><code>v3.3.1</code></dd>\n",
              "              <dt>Master</dt>\n",
              "                <dd><code>local[*]</code></dd>\n",
              "              <dt>AppName</dt>\n",
              "                <dd><code>Transformacao com Spark</code></dd>\n",
              "            </dl>\n",
              "        </div>\n",
              "        \n",
              "            </div>\n",
              "        "
            ]
          },
          "metadata": {},
          "execution_count": 3
        }
      ]
    },
    {
      "cell_type": "code",
      "source": [
        "#fazendo o donwload do arquivo compactado e descompactando\n",
        "!wget \"https://caelum-online-public.s3.amazonaws.com/challenge-spark/semanas-3-e-4.zip\" && unzip semanas-3-e-4.zip -d dados/"
      ],
      "metadata": {
        "colab": {
          "base_uri": "https://localhost:8080/"
        },
        "id": "V--uznxj4w7h",
        "outputId": "c57bc480-46ad-4a2b-d3a7-7ec31d5b8487"
      },
      "execution_count": 4,
      "outputs": [
        {
          "output_type": "stream",
          "name": "stdout",
          "text": [
            "--2022-12-22 12:06:56--  https://caelum-online-public.s3.amazonaws.com/challenge-spark/semanas-3-e-4.zip\n",
            "Resolving caelum-online-public.s3.amazonaws.com (caelum-online-public.s3.amazonaws.com)... 3.5.9.100, 52.217.203.17, 52.217.80.84, ...\n",
            "Connecting to caelum-online-public.s3.amazonaws.com (caelum-online-public.s3.amazonaws.com)|3.5.9.100|:443... connected.\n",
            "HTTP request sent, awaiting response... 200 OK\n",
            "Length: 2588308 (2.5M) [application/zip]\n",
            "Saving to: ‘semanas-3-e-4.zip’\n",
            "\n",
            "semanas-3-e-4.zip   100%[===================>]   2.47M  15.0MB/s    in 0.2s    \n",
            "\n",
            "2022-12-22 12:06:56 (15.0 MB/s) - ‘semanas-3-e-4.zip’ saved [2588308/2588308]\n",
            "\n",
            "Archive:  semanas-3-e-4.zip\n",
            "   creating: dados/dataset_ml_parquet/\n",
            "  inflating: dados/dataset_ml_parquet/_SUCCESS  \n",
            "  inflating: dados/dataset_ml_parquet/._SUCCESS.crc  \n",
            "  inflating: dados/dataset_ml_parquet/part-00003-a14b227c-f87e-4893-b5f9-4163ed07cb37-c000.snappy.parquet  \n",
            "  inflating: dados/dataset_ml_parquet/part-00001-a14b227c-f87e-4893-b5f9-4163ed07cb37-c000.snappy.parquet  \n",
            "  inflating: dados/dataset_ml_parquet/part-00000-a14b227c-f87e-4893-b5f9-4163ed07cb37-c000.snappy.parquet  \n",
            "  inflating: dados/dataset_ml_parquet/.part-00003-a14b227c-f87e-4893-b5f9-4163ed07cb37-c000.snappy.parquet.crc  \n",
            "  inflating: dados/dataset_ml_parquet/part-00002-a14b227c-f87e-4893-b5f9-4163ed07cb37-c000.snappy.parquet  \n",
            "  inflating: dados/dataset_ml_parquet/.part-00001-a14b227c-f87e-4893-b5f9-4163ed07cb37-c000.snappy.parquet.crc  \n",
            "  inflating: dados/dataset_ml_parquet/.part-00002-a14b227c-f87e-4893-b5f9-4163ed07cb37-c000.snappy.parquet.crc  \n",
            "  inflating: dados/dataset_ml_parquet/.part-00000-a14b227c-f87e-4893-b5f9-4163ed07cb37-c000.snappy.parquet.crc  \n"
          ]
        }
      ]
    },
    {
      "cell_type": "code",
      "source": [
        "#lendo o arquivo onde está gravado o dataframe no formato parquet\n",
        "dados = spark.read.parquet('/content/dados/dataset_ml_parquet')"
      ],
      "metadata": {
        "id": "gvYEdxH06GTH"
      },
      "execution_count": 5,
      "outputs": []
    },
    {
      "cell_type": "code",
      "source": [
        "#fazendo uma análise superficial da configuração dos dados\n",
        "dados.show()\n",
        "dados.count()"
      ],
      "metadata": {
        "colab": {
          "base_uri": "https://localhost:8080/"
        },
        "id": "WrqyudGl6KL6",
        "outputId": "ae017f9d-726e-4da9-bf10-40b014acb8f1"
      },
      "execution_count": 6,
      "outputs": [
        {
          "output_type": "stream",
          "name": "stdout",
          "text": [
            "+--------------------+-----+---------+---------+-------+------+----+--------------------+----------+------+---------+------------+----------+----------+--------+--------+------------------+-------------+------------------+--------+-------+----------+------------+-----------------+---------------+\n",
            "|                  id|andar|area_util|banheiros|quartos|suites|vaga|              bairro|condominio|  iptu|    valor|Zona Central|Zona Norte|Zona Oeste|Zona Sul|Academia|Animais permitidos|Churrasqueira|Condomínio fechado|Elevador|Piscina|Playground|Portaria 24h|Portão eletrônico|Salão de festas|\n",
            "+--------------------+-----+---------+---------+-------+------+----+--------------------+----------+------+---------+------------+----------+----------+--------+--------+------------------+-------------+------------------+--------+-------+----------+------------+-----------------+---------------+\n",
            "|00002dd9-cc74-480...|    2|       35|        1|      1|   0.0| 0.0|        Santo Cristo|     100.0| 100.0| 245000.0|           1|         0|         0|       0|       1|                 1|            1|                 1|       1|      1|         1|           1|                1|              1|\n",
            "|0009ca94-2b37-438...|    1|       84|        2|      2|   0.0| 1.0|              Tijuca|     770.0| 105.0| 474980.0|           0|         1|         0|       0|       0|                 0|            1|                 0|       1|      0|         1|           1|                0|              1|\n",
            "|000e3d28-e3e5-411...|    0|       85|        2|      2|   0.0| 0.0|        Santa Teresa|     460.0| 661.0| 290000.0|           0|         0|         0|       1|       0|                 1|            0|                 0|       1|      0|         0|           0|                0|              0|\n",
            "|000fb707-6cad-496...|    0|       58|        1|      2|   0.0| 1.0|           Pechincha|     550.0| 550.0| 249000.0|           0|         0|         1|       0|       0|                 0|            0|                 0|       0|      1|         1|           0|                0|              0|\n",
            "|001b6db0-e88d-4eb...|    0|       64|        2|      2|   1.0| 1.0|              Tijuca|     850.0|   0.0| 530000.0|           0|         1|         0|       0|       0|                 0|            0|                 0|       0|      0|         0|           0|                0|              0|\n",
            "|002db67e-52cc-480...|    0|      200|        6|      4|   4.0| 2.0|     Barra da Tijuca|    2500.0| 420.0|2900000.0|           0|         0|         1|       0|       1|                 1|            1|                 1|       1|      1|         1|           0|                0|              1|\n",
            "|002dc4e0-f1a5-4ad...|    0|       70|        2|      2|   0.0| 0.0|         Vila Isabel|     570.0|   0.0| 389000.0|           0|         1|         0|       0|       0|                 0|            0|                 0|       1|      0|         0|           0|                0|              0|\n",
            "|0030dd84-f657-41f...|    3|       70|        2|      2|   1.0| 1.0|        Pitangueiras|     670.0| 107.0| 470000.0|           0|         1|         0|       0|       0|                 0|            0|                 0|       1|      0|         0|           0|                1|              0|\n",
            "|003213bb-ec21-4ad...|    0|      302|        7|      4|   4.0| 2.0|     Barra da Tijuca|       0.0|   0.0|4400000.0|           0|         0|         1|       0|       1|                 0|            1|                 1|       0|      1|         1|           0|                0|              1|\n",
            "|0032884c-aa5f-455...|    0|       41|        1|      1|   1.0| 1.0|            Cachambi|     450.0|  40.0| 269900.0|           0|         1|         0|       0|       1|                 1|            1|                 1|       1|      1|         1|           1|                1|              1|\n",
            "|00348cd1-923a-4db...|    5|       78|        1|      2|   1.0| 1.0|     Barra da Tijuca|       1.0|   1.0|1050300.0|           0|         0|         1|       0|       1|                 1|            1|                 1|       1|      1|         1|           1|                1|              1|\n",
            "|0034df72-124a-438...|    0|      170|        3|      3|   2.0| 2.0|Recreio dos Bande...|    1300.0|4100.0| 950000.0|           0|         0|         1|       0|       1|                 0|            1|                 1|       0|      1|         0|           0|                0|              1|\n",
            "|0036114a-4a0f-492...|    0|      173|        3|      3|   1.0| 2.0|         Jacarepaguá|    1750.0|4600.0|1300000.0|           0|         0|         1|       0|       1|                 0|            1|                 0|       0|      1|         1|           0|                0|              1|\n",
            "|00370d62-f774-405...|    0|       82|        1|      3|   1.0| 1.0|Recreio dos Bande...|     650.0| 200.0| 650000.0|           0|         0|         1|       0|       0|                 0|            0|                 0|       0|      0|         0|           0|                0|              0|\n",
            "|00396d9d-2d0e-4b5...|    9|      120|        2|      2|   1.0| 2.0|          Copacabana|     950.0| 200.0| 970000.0|           0|         0|         0|       1|       0|                 1|            0|                 1|       1|      0|         0|           1|                1|              0|\n",
            "|003cb63c-a666-458...|   20|      341|        2|      3|   1.0| 2.0|          Copacabana|      20.0|  20.0|4800000.0|           0|         0|         0|       1|       0|                 1|            0|                 1|       1|      0|         0|           1|                1|              0|\n",
            "|0040f5a7-6c6a-40e...|    0|      194|        5|      4|   4.0| 3.0|     Barra da Tijuca|       0.0|   0.0|2750000.0|           0|         0|         1|       0|       1|                 0|            1|                 1|       1|      1|         1|           1|                1|              1|\n",
            "|00529a9d-d876-4dc...|    0|       32|        1|      1|   0.0| 0.0|             Piedade|       0.0|   0.0| 194687.0|           0|         1|         0|       0|       0|                 0|            0|                 0|       0|      0|         0|           0|                0|              1|\n",
            "|00584813-33b4-477...|    1|       70|        1|      2|   0.0| 0.0|          Bonsucesso|       0.0|   0.0| 220000.0|           0|         1|         0|       0|       0|                 0|            0|                 0|       0|      0|         0|           0|                0|              0|\n",
            "|005b5441-16b2-483...|   10|       72|        1|      2|   0.0| 1.0|            Botafogo|    1086.0|1498.0|1000000.0|           0|         0|         0|       1|       0|                 1|            0|                 1|       1|      0|         0|           1|                1|              0|\n",
            "+--------------------+-----+---------+---------+-------+------+----+--------------------+----------+------+---------+------------+----------+----------+--------+--------+------------------+-------------+------------------+--------+-------+----------+------------+-----------------+---------------+\n",
            "only showing top 20 rows\n",
            "\n"
          ]
        },
        {
          "output_type": "execute_result",
          "data": {
            "text/plain": [
              "66551"
            ]
          },
          "metadata": {},
          "execution_count": 6
        }
      ]
    },
    {
      "cell_type": "code",
      "source": [
        "#avaliando a quantidade de bairros registrados\n",
        "dados.select('bairro').distinct().count()"
      ],
      "metadata": {
        "colab": {
          "base_uri": "https://localhost:8080/"
        },
        "id": "bcgTVhLS51SH",
        "outputId": "75f264c6-dcdc-46e3-a06f-86cc42a427b1"
      },
      "execution_count": 7,
      "outputs": [
        {
          "output_type": "execute_result",
          "data": {
            "text/plain": [
              "150"
            ]
          },
          "metadata": {},
          "execution_count": 7
        }
      ]
    },
    {
      "cell_type": "code",
      "source": [
        "#avaliando a quantidade de imóvel por bairro\n",
        "dados.groupBy('bairro').count().sort('count', ascending=False).show()"
      ],
      "metadata": {
        "colab": {
          "base_uri": "https://localhost:8080/"
        },
        "id": "SaH_Qa1JkKnW",
        "outputId": "9c30ecd1-432d-4f82-9d8d-0b88062f3bee"
      },
      "execution_count": 8,
      "outputs": [
        {
          "output_type": "stream",
          "name": "stdout",
          "text": [
            "+--------------------+-----+\n",
            "|              bairro|count|\n",
            "+--------------------+-----+\n",
            "|     Barra da Tijuca|12788|\n",
            "|Recreio dos Bande...| 7792|\n",
            "|          Copacabana| 6784|\n",
            "|         Jacarepaguá| 4437|\n",
            "|              Tijuca| 3638|\n",
            "|            Botafogo| 3498|\n",
            "|Freguesia (Jacare...| 2267|\n",
            "|             Ipanema| 2113|\n",
            "|              Leblon| 1893|\n",
            "|            Flamengo| 1377|\n",
            "|             Taquara| 1247|\n",
            "|               Lagoa| 1218|\n",
            "|           Pechincha| 1199|\n",
            "|         Laranjeiras|  950|\n",
            "|         Vila Isabel|  913|\n",
            "|              Centro|  708|\n",
            "|                Anil|  672|\n",
            "|        Campo Grande|  639|\n",
            "|            Cachambi|  613|\n",
            "|               Gávea|  597|\n",
            "+--------------------+-----+\n",
            "only showing top 20 rows\n",
            "\n"
          ]
        }
      ]
    },
    {
      "cell_type": "code",
      "source": [
        "#avaliando a quantidade de imóvel por bairro\n",
        "dados.groupBy('bairro').count().sort('count', ascending=True).show()"
      ],
      "metadata": {
        "colab": {
          "base_uri": "https://localhost:8080/"
        },
        "id": "kpg-cpUzkiAJ",
        "outputId": "4438167c-ec0a-4a7d-c143-c7f7c68c5b06"
      },
      "execution_count": 9,
      "outputs": [
        {
          "output_type": "stream",
          "name": "stdout",
          "text": [
            "+--------------------+-----+\n",
            "|              bairro|count|\n",
            "+--------------------+-----+\n",
            "|       Vasco da Gama|    1|\n",
            "|          Manguinhos|    1|\n",
            "|             Deodoro|    1|\n",
            "|                Caju|    1|\n",
            "|        Barros Filho|    1|\n",
            "|              Galeão|    1|\n",
            "|   Campo dos Afonsos|    2|\n",
            "|Ricardo de Albuqu...|    2|\n",
            "|     Engenheiro Leal|    2|\n",
            "|     Parque Anchieta|    2|\n",
            "|              Jacaré|    3|\n",
            "|    Magalhães Bastos|    3|\n",
            "|     Parque Colúmbia|    3|\n",
            "|  Barra de Guaratiba|    4|\n",
            "|           Mangueira|    4|\n",
            "|                 Joá|    6|\n",
            "|       Gardênia Azul|    7|\n",
            "|            Sepetiba|    7|\n",
            "|             Paquetá|    7|\n",
            "|          Cavalcanti|    7|\n",
            "+--------------------+-----+\n",
            "only showing top 20 rows\n",
            "\n"
          ]
        }
      ]
    },
    {
      "cell_type": "markdown",
      "source": [
        "#Fazendo a padronização dos dados, determinando um número ideal de componentes e fazendo a redução de dimensionalidade\n",
        "\n",
        "A dimensionalidade é originalmente igual a quatidade de componentes das features.\n",
        "\n",
        "O objetivo é determinar uma dimensionalidade que reduza a quantidade de componentes e, ainda assim, obtenha um resultado satisfatório."
      ],
      "metadata": {
        "id": "mbpQ9KHz7x09"
      }
    },
    {
      "cell_type": "code",
      "source": [
        "#importando as funções VectorAssembler, StandardScaler, PCA e Pipeline\n",
        "from pyspark.ml.feature import VectorAssembler\n",
        "from pyspark.ml.feature import StandardScaler\n",
        "from pyspark.ml.feature import PCA\n",
        "from pyspark.ml import Pipeline"
      ],
      "metadata": {
        "id": "9s8vsNbLwA8y"
      },
      "execution_count": 10,
      "outputs": []
    },
    {
      "cell_type": "code",
      "source": [
        "#criando uma lista com todas as colunas que vão ser utilizadas features\n",
        "X = dados.columns\n",
        "X.remove('bairro')\n",
        "X.remove('id')"
      ],
      "metadata": {
        "id": "NtEI_mw5Rc-u"
      },
      "execution_count": 11,
      "outputs": []
    },
    {
      "cell_type": "code",
      "source": [
        "#criando o modelo sem redução de dimensões\n",
        "dados_vector = VectorAssembler(inputCols=X, outputCol='features').transform(dados)"
      ],
      "metadata": {
        "id": "yfuo5JayWcbo"
      },
      "execution_count": 12,
      "outputs": []
    },
    {
      "cell_type": "code",
      "source": [
        "#criando o modelo sem redução de dimensões\n",
        "scaler = StandardScaler(inputCol='features', outputCol='features_scaled')\n",
        "model_scaler = scaler.fit(dados_vector)\n",
        "dados_scaler = model_scaler.transform(dados_vector)"
      ],
      "metadata": {
        "id": "x5tnw5TvWy0t"
      },
      "execution_count": 13,
      "outputs": []
    },
    {
      "cell_type": "code",
      "source": [
        "#criando o modelo sem redução de dimensões\n",
        "pca = PCA(k=len(X), inputCol='features_scaled', outputCol='pca_features')\n",
        "model_pca = pca.fit(dados_scaler)"
      ],
      "metadata": {
        "id": "9CzBEaq_XAv1"
      },
      "execution_count": 14,
      "outputs": []
    },
    {
      "cell_type": "code",
      "source": [
        "#verificando o explainedVariance de cada componente\n",
        "model_pca.explainedVariance"
      ],
      "metadata": {
        "colab": {
          "base_uri": "https://localhost:8080/"
        },
        "id": "dFpw0371MrCp",
        "outputId": "601d65ee-c294-4e57-8514-b6cc47fa6d7a"
      },
      "execution_count": 15,
      "outputs": [
        {
          "output_type": "execute_result",
          "data": {
            "text/plain": [
              "DenseVector([0.2655, 0.1721, 0.0913, 0.0544, 0.0522, 0.0466, 0.0443, 0.0416, 0.0347, 0.0272, 0.0244, 0.0201, 0.0192, 0.0176, 0.0155, 0.0139, 0.012, 0.0113, 0.0101, 0.0092, 0.0089, 0.0079, 0.0])"
            ]
          },
          "metadata": {},
          "execution_count": 15
        }
      ]
    },
    {
      "cell_type": "code",
      "source": [
        "#sem a redução de dimensionalidades, o somatório das componentes do vetor explainedVariance é 1\n",
        "sum(model_pca.explainedVariance) * 100"
      ],
      "metadata": {
        "colab": {
          "base_uri": "https://localhost:8080/"
        },
        "id": "4UOgnqIdXIBc",
        "outputId": "96ab907d-a413-4a5a-bd99-8304274e6fd1"
      },
      "execution_count": 16,
      "outputs": [
        {
          "output_type": "execute_result",
          "data": {
            "text/plain": [
              "100.0"
            ]
          },
          "metadata": {},
          "execution_count": 16
        }
      ]
    },
    {
      "cell_type": "code",
      "source": [
        "#determinando, por meio de processo incremental, um valor aceitável para o somatório das componentes do vetor explainedVariance\n",
        "lista_valores = [sum(model_pca.explainedVariance[0:i+1]) for i in range(len(X))]\n",
        "lista_valores"
      ],
      "metadata": {
        "colab": {
          "base_uri": "https://localhost:8080/"
        },
        "id": "Cd23X_RMXPjO",
        "outputId": "748f6669-acd8-4c60-c219-61c5f740c255"
      },
      "execution_count": 17,
      "outputs": [
        {
          "output_type": "execute_result",
          "data": {
            "text/plain": [
              "[0.26545749360997034,\n",
              " 0.4375247949776184,\n",
              " 0.5287992767783259,\n",
              " 0.5831729986362391,\n",
              " 0.6354028103524717,\n",
              " 0.682023156221161,\n",
              " 0.7262890569978575,\n",
              " 0.7678911881686676,\n",
              " 0.8025730095613413,\n",
              " 0.8297996535128337,\n",
              " 0.854194399626073,\n",
              " 0.8742987112956476,\n",
              " 0.8935090265260494,\n",
              " 0.9111213166740558,\n",
              " 0.9266283824348652,\n",
              " 0.9405231608927351,\n",
              " 0.9525305733295567,\n",
              " 0.9638657310284791,\n",
              " 0.9739753651565556,\n",
              " 0.983205487506614,\n",
              " 0.9921039340092773,\n",
              " 0.9999999999999953,\n",
              " 1.0]"
            ]
          },
          "metadata": {},
          "execution_count": 17
        }
      ]
    },
    {
      "cell_type": "code",
      "source": [
        "#determinando a redução de dimensões\n",
        "import numpy as np"
      ],
      "metadata": {
        "id": "wtzyglz2XZUO"
      },
      "execution_count": 18,
      "outputs": []
    },
    {
      "cell_type": "code",
      "source": [
        "#determinando a redução de dimensões\n",
        "k = sum(np.array(lista_valores) <= 0.7)\n",
        "k"
      ],
      "metadata": {
        "colab": {
          "base_uri": "https://localhost:8080/"
        },
        "id": "yyngTOe4XaGs",
        "outputId": "9647eec9-0ad5-47c9-8858-9d14d513dc0e"
      },
      "execution_count": 19,
      "outputs": [
        {
          "output_type": "execute_result",
          "data": {
            "text/plain": [
              "6"
            ]
          },
          "metadata": {},
          "execution_count": 19
        }
      ]
    },
    {
      "cell_type": "code",
      "source": [
        "#criando o pipeline\n",
        "pca_pipeline = Pipeline(stages=[VectorAssembler(inputCols=X, outputCol='features'),\n",
        "                                StandardScaler(inputCol='features', outputCol='scaled_features'),\n",
        "                                PCA(k=k, inputCol='scaled_features', outputCol='pca_features')])"
      ],
      "metadata": {
        "id": "14XBzqNqRgkP"
      },
      "execution_count": 20,
      "outputs": []
    },
    {
      "cell_type": "code",
      "source": [
        "#ajustando o pipeline\n",
        "pca_pipeline_model = pca_pipeline.fit(dados)"
      ],
      "metadata": {
        "id": "X-uzpDOQRjqK"
      },
      "execution_count": 21,
      "outputs": []
    },
    {
      "cell_type": "code",
      "source": [
        "#usando o modelo pipeline para gerar os dados\n",
        "dados_pca = pca_pipeline_model.transform(dados)"
      ],
      "metadata": {
        "id": "TBVuWxZUSLG6"
      },
      "execution_count": 22,
      "outputs": []
    },
    {
      "cell_type": "code",
      "source": [
        "#fazendo uma análise superficial dos resultados obtidos\n",
        "dados_pca.select('pca_features').show(truncate=False)"
      ],
      "metadata": {
        "colab": {
          "base_uri": "https://localhost:8080/"
        },
        "id": "pzWeU2BRSXUJ",
        "outputId": "94f10a42-acef-468e-f363-bd419c37ed3a"
      },
      "execution_count": 23,
      "outputs": [
        {
          "output_type": "stream",
          "name": "stdout",
          "text": [
            "+---------------------------------------------------------------------------------------------------------------------------+\n",
            "|pca_features                                                                                                               |\n",
            "+---------------------------------------------------------------------------------------------------------------------------+\n",
            "|[-6.165125049533812,1.3380985269405696,-1.7052299823820158,-0.5338289630560162,0.08903815478581815,-0.3134396180129953]    |\n",
            "|[-3.2529111812184865,-1.1179591836228857,-0.2923895841501507,3.195538820020636,0.1528630698219846,1.302893049066197]       |\n",
            "|[-1.0611769329629537,-1.6685040058694294,-2.30759482783911,0.10553124125788461,-0.06914386452866851,0.7187181899556143]    |\n",
            "|[-1.995811900783872,-1.7655796610847843,1.3571962498672347,-0.16336519381168974,-0.021305227846957334,0.12808044918214828] |\n",
            "|[-0.4181406070145923,-2.131040791141693,-0.1026409926497008,2.809916415039177,-0.042956284698168964,-0.09449068767336455]  |\n",
            "|[-6.9015238649802715,-6.262240376053038,0.16910177737318188,0.9779688500381024,-0.137360477999322,0.8070938605611206]      |\n",
            "|[-0.7164221492881188,-1.4040232409557425,-0.5880227755977427,2.8308875117797396,0.013520135298654659,0.28321813330894896]  |\n",
            "|[-1.4856960209870214,-1.7808507073415798,-1.2578464949084176,3.019147069955898,-0.1230350650797674,-0.4086526496917688]    |\n",
            "|[-6.0456283208921535,-7.824880763294744,0.8818715068911896,0.8870883633126033,-0.11156730428617793,1.1534985495745893]     |\n",
            "|[-6.199240571378114,0.3124209223549341,-1.2536547599086167,2.8267834930573326,0.06487910654048239,0.8407164846741647]      |\n",
            "|[-6.884681111573802,-1.050675104927925,-0.7150385451991546,0.14081256728031682,-0.12293880480695774,-0.012785235241512927] |\n",
            "|[-4.613470387277003,-4.014655897062348,1.3861151450856486,0.25794041485945685,-0.06264532056065349,0.3151835602761643]     |\n",
            "|[-4.476327061805593,-3.8649262122150287,1.9543162471144324,0.3920283672793603,0.10537138955480366,1.245088515992784]       |\n",
            "|[-0.9935595784851534,-2.9244548608453225,0.5955403058697635,0.04903265999569473,-0.21477729308072419,-0.8898160995676627]  |\n",
            "|[-3.16451925334317,-2.145186138172188,-4.134482451280468,0.332366037558096,-0.3340019679627175,-0.7316863604413174]        |\n",
            "|[-3.546059940548585,-4.6557489577929845,-5.0478959419256455,0.5981869579153204,-0.3431190572550165,-0.6805477041334793]    |\n",
            "|[-7.507064348067576,-5.873363966077033,-0.4632190292126165,0.9640748873463345,-0.23757586245988377,0.4253795999856763]     |\n",
            "|[-0.65020079746698,-0.44347741220645925,0.21447012352131423,2.591531259942347,0.0986000664791115,0.5087564467428431]       |\n",
            "|[-0.12715321773623325,-1.19611485883027,-0.10466844621100192,2.64055524879081,-0.0014733730251071803,-0.010183626296166967]|\n",
            "|[-2.849363391484401,-1.0413877168058734,-4.116836754726095,0.10541530141944482,-0.2711338099799911,-0.5882902051997321]    |\n",
            "+---------------------------------------------------------------------------------------------------------------------------+\n",
            "only showing top 20 rows\n",
            "\n"
          ]
        }
      ]
    },
    {
      "cell_type": "markdown",
      "source": [
        "#Criando os clusters"
      ],
      "metadata": {
        "id": "UQ1YElbtk6dI"
      }
    },
    {
      "cell_type": "code",
      "source": [
        "#importando as funções KMeans e ClusteringEvaluator\n",
        "from pyspark.ml.clustering import KMeans\n",
        "from pyspark.ml.evaluation import ClusteringEvaluator"
      ],
      "metadata": {
        "id": "oHEa3PAN_MKi"
      },
      "execution_count": 24,
      "outputs": []
    },
    {
      "cell_type": "code",
      "source": [
        "#determinando a constante de aleatoriedade\n",
        "SEED = 1224"
      ],
      "metadata": {
        "id": "NvnrjKio_cVp"
      },
      "execution_count": 25,
      "outputs": []
    },
    {
      "cell_type": "code",
      "source": [
        "#determinando o valor de ideal de k para a criação dos clusters pela Elbow Curve\n",
        "nmax=100\n",
        "cost = np.zeros(int(nmax/5))\n",
        "for k in range(2,nmax,5):\n",
        "    kmeans = KMeans().setK(k).setSeed(SEED).setFeaturesCol('pca_features')\n",
        "    model_kmeans = kmeans.fit(dados_pca)\n",
        "    cost[int((k-2)/5)] = model_kmeans.summary.trainingCost"
      ],
      "metadata": {
        "id": "s7p3sfItR1Zv"
      },
      "execution_count": 26,
      "outputs": []
    },
    {
      "cell_type": "code",
      "source": [
        "#plotando o gráfico\n",
        "import pandas as pd\n",
        "df_cost = pd.DataFrame(cost[0:])\n",
        "df_cost.columns = [\"cost\"]\n",
        "new_col = list(range(2,nmax,5))\n",
        "df_cost.insert(0, 'cluster', new_col)\n",
        "\n",
        "import pylab as pl\n",
        "pl.plot(df_cost.cluster, df_cost.cost)\n",
        "pl.xlabel('Number of Clusters')\n",
        "pl.ylabel('Score')\n",
        "pl.title('Elbow Curve')\n",
        "pl.show()\n",
        "#k = 20"
      ],
      "metadata": {
        "id": "cs3BIjO_q9gs",
        "outputId": "d4852cf2-0d61-44c9-a44b-1807ce88aac5",
        "colab": {
          "base_uri": "https://localhost:8080/",
          "height": 295
        }
      },
      "execution_count": 27,
      "outputs": [
        {
          "output_type": "display_data",
          "data": {
            "text/plain": [
              "<Figure size 432x288 with 1 Axes>"
            ],
            "image/png": "[encoded data removed]"
          },
          "metadata": {
            "needs_background": "light"
          }
        }
      ]
    },
    {
      "cell_type": "code",
      "source": [
        "#criando o kMeans\n",
        "kmeans = KMeans(featuresCol='pca_features', predictionCol='cluster_pca').setK(20).setSeed(SEED)"
      ],
      "metadata": {
        "id": "3z1xIZiiWB37"
      },
      "execution_count": 28,
      "outputs": []
    },
    {
      "cell_type": "code",
      "source": [
        "#ajustando o kmeans\n",
        "model_kmeans = kmeans.fit(dados_pca)"
      ],
      "metadata": {
        "id": "7X4DvG18WEKm"
      },
      "execution_count": 29,
      "outputs": []
    },
    {
      "cell_type": "code",
      "source": [
        "#usando o modelo kmeans para gerar os dados\n",
        "prections_kmeans = model_kmeans.transform(dados_pca)"
      ],
      "metadata": {
        "id": "ubzc7mrEWGEy"
      },
      "execution_count": 30,
      "outputs": []
    },
    {
      "cell_type": "code",
      "source": [
        "#fazendo uma análise superficial dos resultados obtidos\n",
        "prections_kmeans.select('pca_features', 'cluster_pca').show(truncate=False)"
      ],
      "metadata": {
        "colab": {
          "base_uri": "https://localhost:8080/"
        },
        "id": "J0NpGbPDWHvl",
        "outputId": "04a1d77c-c018-414b-9b2f-cd9fb6af1e7d"
      },
      "execution_count": 31,
      "outputs": [
        {
          "output_type": "stream",
          "name": "stdout",
          "text": [
            "+---------------------------------------------------------------------------------------------------------------------------+-----------+\n",
            "|pca_features                                                                                                               |cluster_pca|\n",
            "+---------------------------------------------------------------------------------------------------------------------------+-----------+\n",
            "|[-6.165125049533812,1.3380985269405696,-1.7052299823820158,-0.5338289630560162,0.08903815478581815,-0.3134396180129953]    |4          |\n",
            "|[-3.2529111812184865,-1.1179591836228857,-0.2923895841501507,3.195538820020636,0.1528630698219846,1.302893049066197]       |6          |\n",
            "|[-1.0611769329629537,-1.6685040058694294,-2.30759482783911,0.10553124125788461,-0.06914386452866851,0.7187181899556143]    |3          |\n",
            "|[-1.995811900783872,-1.7655796610847843,1.3571962498672347,-0.16336519381168974,-0.021305227846957334,0.12808044918214828] |12         |\n",
            "|[-0.4181406070145923,-2.131040791141693,-0.1026409926497008,2.809916415039177,-0.042956284698168964,-0.09449068767336455]  |6          |\n",
            "|[-6.9015238649802715,-6.262240376053038,0.16910177737318188,0.9779688500381024,-0.137360477999322,0.8070938605611206]      |16         |\n",
            "|[-0.7164221492881188,-1.4040232409557425,-0.5880227755977427,2.8308875117797396,0.013520135298654659,0.28321813330894896]  |6          |\n",
            "|[-1.4856960209870214,-1.7808507073415798,-1.2578464949084176,3.019147069955898,-0.1230350650797674,-0.4086526496917688]    |6          |\n",
            "|[-6.0456283208921535,-7.824880763294744,0.8818715068911896,0.8870883633126033,-0.11156730428617793,1.1534985495745893]     |16         |\n",
            "|[-6.199240571378114,0.3124209223549341,-1.2536547599086167,2.8267834930573326,0.06487910654048239,0.8407164846741647]      |10         |\n",
            "|[-6.884681111573802,-1.050675104927925,-0.7150385451991546,0.14081256728031682,-0.12293880480695774,-0.012785235241512927] |4          |\n",
            "|[-4.613470387277003,-4.014655897062348,1.3861151450856486,0.25794041485945685,-0.06264532056065349,0.3151835602761643]     |8          |\n",
            "|[-4.476327061805593,-3.8649262122150287,1.9543162471144324,0.3920283672793603,0.10537138955480366,1.245088515992784]       |8          |\n",
            "|[-0.9935595784851534,-2.9244548608453225,0.5955403058697635,0.04903265999569473,-0.21477729308072419,-0.8898160995676627]  |0          |\n",
            "|[-3.16451925334317,-2.145186138172188,-4.134482451280468,0.332366037558096,-0.3340019679627175,-0.7316863604413174]        |18         |\n",
            "|[-3.546059940548585,-4.6557489577929845,-5.0478959419256455,0.5981869579153204,-0.3431190572550165,-0.6805477041334793]    |13         |\n",
            "|[-7.507064348067576,-5.873363966077033,-0.4632190292126165,0.9640748873463345,-0.23757586245988377,0.4253795999856763]     |16         |\n",
            "|[-0.65020079746698,-0.44347741220645925,0.21447012352131423,2.591531259942347,0.0986000664791115,0.5087564467428431]       |6          |\n",
            "|[-0.12715321773623325,-1.19611485883027,-0.10466844621100192,2.64055524879081,-0.0014733730251071803,-0.010183626296166967]|6          |\n",
            "|[-2.849363391484401,-1.0413877168058734,-4.116836754726095,0.10541530141944482,-0.2711338099799911,-0.5882902051997321]    |18         |\n",
            "+---------------------------------------------------------------------------------------------------------------------------+-----------+\n",
            "only showing top 20 rows\n",
            "\n"
          ]
        }
      ]
    },
    {
      "cell_type": "markdown",
      "source": [
        "#Filtrando imóveis do mesmo cluster\n",
        "\n",
        "Para testar a eficiencia da metodológia foi selecionado um id de um imóvel qualquer e, inicialmente, foi feito uma filtragem nos dados do data frame por meior do cluster do imóvel selecionado.\n",
        "\n",
        "Nota-se que utilizando somente o valor de cluster para realizar a filtragem existe uma determinada aleatoriedade nos resultados obtidos.\n",
        "\n",
        "Para obter resultados mais consistentes foi feito o calculo da distância euclediana por meio das componentes de cluster_pca e os resultados foram ordenados do menor para o maior."
      ],
      "metadata": {
        "id": "8OZ55MKieOiy"
      }
    },
    {
      "cell_type": "code",
      "source": [
        "#selecionando um imóvel pelo id\n",
        "id = prections_kmeans.select('id').collect()[0][0]\n",
        "id"
      ],
      "metadata": {
        "colab": {
          "base_uri": "https://localhost:8080/",
          "height": 35
        },
        "id": "q-Z0hipXltwZ",
        "outputId": "01ae3149-41a1-4475-8603-7ff2e258ebc0"
      },
      "execution_count": 32,
      "outputs": [
        {
          "output_type": "execute_result",
          "data": {
            "text/plain": [
              "'00002dd9-cc74-4809-b5a5-850adf0e7526'"
            ],
            "application/vnd.google.colaboratory.intrinsic+json": {
              "type": "string"
            }
          },
          "metadata": {},
          "execution_count": 32
        }
      ]
    },
    {
      "cell_type": "code",
      "source": [
        "#analisando os dados do imóvel selecionado\n",
        "prections_kmeans.filter(prections_kmeans.id == id).show(truncate=False)"
      ],
      "metadata": {
        "colab": {
          "base_uri": "https://localhost:8080/"
        },
        "id": "fwM-Vu2ImG7k",
        "outputId": "433cc32e-8ccb-4e3d-8352-e15aaaaf0d8f"
      },
      "execution_count": 33,
      "outputs": [
        {
          "output_type": "stream",
          "name": "stdout",
          "text": [
            "+------------------------------------+-----+---------+---------+-------+------+----+------------+----------+-----+--------+------------+----------+----------+--------+--------+------------------+-------------+------------------+--------+-------+----------+------------+-----------------+---------------+-------------------------------------------------------------------------------------------------------+--------------------------------------------------------------------------------------------------------------------------------------------------------------------------------------------------------------------------------------------------------------------------------------------------------------------------------------------------------------------------+-----------------------------------------------------------------------------------------------------------------------+-----------+\n",
            "|id                                  |andar|area_util|banheiros|quartos|suites|vaga|bairro      |condominio|iptu |valor   |Zona Central|Zona Norte|Zona Oeste|Zona Sul|Academia|Animais permitidos|Churrasqueira|Condomínio fechado|Elevador|Piscina|Playground|Portaria 24h|Portão eletrônico|Salão de festas|features                                                                                               |scaled_features                                                                                                                                                                                                                                                                                                                                                           |pca_features                                                                                                           |cluster_pca|\n",
            "+------------------------------------+-----+---------+---------+-------+------+----+------------+----------+-----+--------+------------+----------+----------+--------+--------+------------------+-------------+------------------+--------+-------+----------+------------+-----------------+---------------+-------------------------------------------------------------------------------------------------------+--------------------------------------------------------------------------------------------------------------------------------------------------------------------------------------------------------------------------------------------------------------------------------------------------------------------------------------------------------------------------+-----------------------------------------------------------------------------------------------------------------------+-----------+\n",
            "|00002dd9-cc74-4809-b5a5-850adf0e7526|2    |35       |1        |1      |0.0   |0.0 |Santo Cristo|100.0     |100.0|245000.0|1           |0         |0         |0       |1       |1                 |1            |1                 |1       |1      |1         |1           |1                |1              |[2.0,35.0,1.0,1.0,0.0,0.0,100.0,100.0,245000.0,1.0,0.0,0.0,0.0,1.0,1.0,1.0,1.0,1.0,1.0,1.0,1.0,1.0,1.0]|[0.13607726247524105,0.3928347118586362,0.7362338819363583,1.1008202436753782,0.0,0.0,9.600966052923233E-4,5.843293750925928E-4,0.16646329338847035,7.693539635100576,0.0,0.0,0.0,2.029288675697721,2.0063986358410992,2.00212608660304,2.0026140142259217,2.0917437099198977,1.9999864552247013,2.001812384720792,2.007706141209056,2.0142448870054395,2.000069820806827]|[-6.165125049533812,1.3380985269405696,-1.7052299823820158,-0.5338289630560162,0.08903815478581815,-0.3134396180129953]|4          |\n",
            "+------------------------------------+-----+---------+---------+-------+------+----+------------+----------+-----+--------+------------+----------+----------+--------+--------+------------------+-------------+------------------+--------+-------+----------+------------+-----------------+---------------+-------------------------------------------------------------------------------------------------------+--------------------------------------------------------------------------------------------------------------------------------------------------------------------------------------------------------------------------------------------------------------------------------------------------------------------------------------------------------------------------+-----------------------------------------------------------------------------------------------------------------------+-----------+\n",
            "\n"
          ]
        }
      ]
    },
    {
      "cell_type": "code",
      "source": [
        "#armazenando o cluster_pca do imóvel em uma variável\n",
        "cluster = prections_kmeans.filter(prections_kmeans.id == id).select('cluster_pca').collect()[0][0]\n",
        "cluster"
      ],
      "metadata": {
        "colab": {
          "base_uri": "https://localhost:8080/"
        },
        "id": "iK1-XC1FeUIX",
        "outputId": "ca16290e-5939-42cf-9433-7eeea0e14383"
      },
      "execution_count": 34,
      "outputs": [
        {
          "output_type": "execute_result",
          "data": {
            "text/plain": [
              "4"
            ]
          },
          "metadata": {},
          "execution_count": 34
        }
      ]
    },
    {
      "cell_type": "code",
      "source": [
        "#filtrando os imóveis pelo cluster_pca do imóvel selecionado\n",
        "imoveis_recomendados = prections_kmeans.filter(prections_kmeans.cluster_pca == cluster)\n",
        "imoveis_recomendados.show()\n"
      ],
      "metadata": {
        "colab": {
          "base_uri": "https://localhost:8080/"
        },
        "id": "gGkSmq-Efw-e",
        "outputId": "ae5d3711-7f48-4ca6-d048-2acfa9ce0b7d"
      },
      "execution_count": 35,
      "outputs": [
        {
          "output_type": "stream",
          "name": "stdout",
          "text": [
            "+--------------------+-----+---------+---------+-------+------+----+--------------------+----------+------+---------+------------+----------+----------+--------+--------+------------------+-------------+------------------+--------+-------+----------+------------+-----------------+---------------+--------------------+--------------------+--------------------+-----------+\n",
            "|                  id|andar|area_util|banheiros|quartos|suites|vaga|              bairro|condominio|  iptu|    valor|Zona Central|Zona Norte|Zona Oeste|Zona Sul|Academia|Animais permitidos|Churrasqueira|Condomínio fechado|Elevador|Piscina|Playground|Portaria 24h|Portão eletrônico|Salão de festas|            features|     scaled_features|        pca_features|cluster_pca|\n",
            "+--------------------+-----+---------+---------+-------+------+----+--------------------+----------+------+---------+------------+----------+----------+--------+--------+------------------+-------------+------------------+--------+-------+----------+------------+-----------------+---------------+--------------------+--------------------+--------------------+-----------+\n",
            "|00002dd9-cc74-480...|    2|       35|        1|      1|   0.0| 0.0|        Santo Cristo|     100.0| 100.0| 245000.0|           1|         0|         0|       0|       1|                 1|            1|                 1|       1|      1|         1|           1|                1|              1|[2.0,35.0,1.0,1.0...|[0.13607726247524...|[-6.1651250495338...|          4|\n",
            "|00348cd1-923a-4db...|    5|       78|        1|      2|   1.0| 1.0|     Barra da Tijuca|       1.0|   1.0|1050300.0|           0|         0|         1|       0|       1|                 1|            1|                 1|       1|      1|         1|           1|                1|              1|[5.0,78.0,1.0,2.0...|[0.34019315618810...|[-6.8846811115738...|          4|\n",
            "|007a7c27-bb0b-4b6...|    0|       65|        2|      2|   1.0| 1.0|Recreio dos Bande...|     890.0| 180.0| 540000.0|           0|         0|         1|       0|       1|                 1|            1|                 1|       1|      1|         1|           1|                0|              1|[0.0,65.0,2.0,2.0...|[0.0,0.7295501791...|[-6.3756683127110...|          4|\n",
            "|0123b5ed-e6b5-4de...|   11|       64|        1|      2|   1.0| 1.0|         Jacarepaguá|    1390.0|1570.0| 480000.0|           0|         0|         1|       0|       1|                 1|            1|                 1|       1|      1|         1|           1|                1|              1|[11.0,64.0,1.0,2....|[0.74842494361382...|[-6.8753602103575...|          4|\n",
            "|013027d3-92a5-488...|    0|       65|        2|      2|   2.0| 1.0|Recreio dos Bande...|       1.0|   1.0| 419000.0|           0|         0|         1|       0|       1|                 1|            1|                 1|       1|      1|         1|           1|                1|              1|[0.0,65.0,2.0,2.0...|[0.0,0.7295501791...|[-7.0472639423702...|          4|\n",
            "|015c98f7-50b3-40e...|    0|       50|        2|      2|   1.0| 1.0|         Jacarepaguá|     100.0| 100.0| 359000.0|           0|         0|         1|       0|       1|                 1|            1|                 1|       1|      1|         1|           1|                1|              1|[0.0,50.0,2.0,2.0...|[0.0,0.5611924455...|[-6.8924549797178...|          4|\n",
            "|016aa5e1-aa7b-42f...|    0|       83|        2|      3|   1.0| 1.0|Recreio dos Bande...|      15.0|  15.0| 550000.0|           0|         0|         1|       0|       1|                 1|            1|                 1|       1|      1|         1|           1|                1|              1|[0.0,83.0,2.0,3.0...|[0.0,0.9315794595...|[-7.0055185691315...|          4|\n",
            "|017447b1-e1f2-4d4...|    0|       50|        1|      2|   0.0| 0.0|        Santo Cristo|       0.0|   0.0| 305590.0|           1|         0|         0|       0|       1|                 1|            0|                 1|       1|      1|         0|           1|                0|              1|(23,[1,2,3,8,9,13...|(23,[1,2,3,8,9,13...|[-4.4907562089872...|          4|\n",
            "|0177193b-144e-4d3...|    0|       66|        2|      2|   1.0| 1.0|           Pechincha|     585.0|  85.0| 375000.0|           0|         0|         1|       0|       1|                 1|            1|                 1|       1|      1|         1|           1|                1|              1|[0.0,66.0,2.0,2.0...|[0.0,0.7407740280...|[-6.9033648662643...|          4|\n",
            "|018a5db4-f8a2-422...|   11|       84|        2|      3|   1.0| 1.0|Recreio dos Bande...|    1100.0|1700.0| 680000.0|           0|         0|         1|       0|       1|                 1|            1|                 1|       1|      1|         1|           1|                1|              1|[11.0,84.0,2.0,3....|[0.74842494361382...|[-7.0425768797700...|          4|\n",
            "|01c7151d-2410-43b...|    6|       73|        2|      2|   1.0| 1.0|     Barra da Tijuca|    1267.0|1680.0| 600000.0|           0|         0|         1|       0|       1|                 1|            1|                 1|       1|      1|         0|           1|                1|              1|[6.0,73.0,2.0,2.0...|[0.40823178742572...|[-6.3157819710870...|          4|\n",
            "|01c83cd8-02ec-40e...|    0|       65|        2|      2|   1.0| 1.0|         Jacarepaguá|     100.0| 100.0| 503361.0|           0|         0|         1|       0|       1|                 1|            1|                 1|       1|      1|         1|           1|                1|              1|[0.0,65.0,2.0,2.0...|[0.0,0.7295501791...|[-6.9067156323505...|          4|\n",
            "|01dc3ac5-ce47-49e...|    0|       55|        2|      2|   1.0| 1.0|     Barra da Tijuca|       0.0|   0.0| 309000.0|           0|         0|         1|       0|       1|                 1|            1|                 1|       1|      1|         1|           1|                1|              1|[0.0,55.0,2.0,2.0...|[0.0,0.6173116900...|[-6.8941090537154...|          4|\n",
            "|022b6112-a1bd-4f5...|    0|       91|        2|      3|   1.0| 2.0|Recreio dos Bande...|     820.0|1700.0| 750000.0|           0|         0|         1|       0|       1|                 1|            1|                 1|       1|      1|         1|           1|                1|              1|[0.0,91.0,2.0,3.0...|[0.0,1.0213702508...|[-7.0995261994757...|          4|\n",
            "|0246a1b3-fdcf-492...|    1|      120|        1|      3|   1.0| 1.0|     Barra da Tijuca|       1.0|   1.0|1630000.0|           0|         0|         1|       0|       1|                 1|            1|                 1|       1|      1|         1|           1|                1|              1|[1.0,120.0,1.0,3....|[0.06803863123762...|[-7.0041103258119...|          4|\n",
            "|027bb6ee-bd7b-40e...|    4|       93|        2|      3|   1.0| 2.0|Recreio dos Bande...|    1600.0| 200.0| 660000.0|           0|         0|         1|       0|       1|                 1|            1|                 1|       1|      1|         1|           1|                1|              1|[4.0,93.0,2.0,3.0...|[0.27215452495048...|[-7.1097570797506...|          4|\n",
            "|0281a78b-5025-472...|    0|       70|        2|      2|   1.0| 1.0|     Barra da Tijuca|    1546.0| 217.0| 900000.0|           0|         0|         1|       0|       1|                 1|            1|                 1|       1|      1|         1|           1|                1|              1|[0.0,70.0,2.0,2.0...|[0.0,0.7856694237...|[-6.9225745898646...|          4|\n",
            "|028cdd4c-604e-4b8...|    1|       82|        2|      3|   1.0| 1.0|Recreio dos Bande...|      20.0|  20.0| 680000.0|           0|         0|         1|       0|       1|                 1|            1|                 1|       1|      1|         1|           1|                1|              1|[1.0,82.0,2.0,3.0...|[0.06803863123762...|[-7.0118927670519...|          4|\n",
            "|02aef0c4-ba7b-4b4...|    2|       61|        2|      2|   1.0| 1.0|        Campo Grande|     360.0| 390.0| 345520.0|           0|         0|         1|       0|       1|                 0|            1|                 1|       1|      1|         1|           1|                1|              1|[2.0,61.0,2.0,2.0...|[0.13607726247524...|[-6.3982861956519...|          4|\n",
            "|03133458-912a-40f...|    7|       69|        2|      2|   1.0| 1.0|     Barra da Tijuca|       0.0|   0.0| 859000.0|           0|         0|         1|       0|       1|                 1|            1|                 1|       1|      1|         0|           1|                1|              1|[7.0,69.0,2.0,2.0...|[0.47627041866334...|[-6.3241474360828...|          4|\n",
            "+--------------------+-----+---------+---------+-------+------+----+--------------------+----------+------+---------+------------+----------+----------+--------+--------+------------------+-------------+------------------+--------+-------+----------+------------+-----------------+---------------+--------------------+--------------------+--------------------+-----------+\n",
            "only showing top 20 rows\n",
            "\n"
          ]
        }
      ]
    },
    {
      "cell_type": "code",
      "source": [
        "#apresentando as componentes que serão utilizadas para calcular a distância euclediana\n",
        "componentes = imoveis_recomendados.filter(imoveis_recomendados.id == id).select('pca_features').collect()[0][0]\n",
        "componentes"
      ],
      "metadata": {
        "colab": {
          "base_uri": "https://localhost:8080/"
        },
        "id": "u2HIxiGjcK6N",
        "outputId": "f22ca49d-ed98-4db4-bdb0-96cfed447999"
      },
      "execution_count": 36,
      "outputs": [
        {
          "output_type": "execute_result",
          "data": {
            "text/plain": [
              "DenseVector([-6.1651, 1.3381, -1.7052, -0.5338, 0.089, -0.3134])"
            ]
          },
          "metadata": {},
          "execution_count": 36
        }
      ]
    },
    {
      "cell_type": "code",
      "source": [
        "#importando bibliotecas utilizadas para calcular a distância euclediana\n",
        "from scipy.spatial.distance import euclidean\n",
        "from pyspark.sql.types import FloatType\n",
        "from pyspark.sql import functions as f"
      ],
      "metadata": {
        "id": "lDWmDK4odSM1"
      },
      "execution_count": 37,
      "outputs": []
    },
    {
      "cell_type": "code",
      "source": [
        "#calculando distância euclediana entre o imóvel escolhido e os demais imóveis que pertencem ao mesmo cluster\n",
        "def calcula_distance(value):\n",
        "  return euclidean(componentes, value)\n",
        "\n",
        "udf_calcula_distance = f.udf(calcula_distance, FloatType())\n",
        "imoveis_recomendados_dist = imoveis_recomendados.withColumn('Dist', udf_calcula_distance('pca_features'))\n",
        "recomendados = imoveis_recomendados_dist.select('id', 'bairro', 'Dist').sort('Dist')\n",
        "recomendados.show(truncate=False)"
      ],
      "metadata": {
        "colab": {
          "base_uri": "https://localhost:8080/"
        },
        "id": "nDcyC-l-dSQw",
        "outputId": "bc65f290-6794-4909-997b-8cb65b39194d"
      },
      "execution_count": 38,
      "outputs": [
        {
          "output_type": "stream",
          "name": "stdout",
          "text": [
            "+------------------------------------+------------+-----------+\n",
            "|id                                  |bairro      |Dist       |\n",
            "+------------------------------------+------------+-----------+\n",
            "|00002dd9-cc74-4809-b5a5-850adf0e7526|Santo Cristo|0.0        |\n",
            "|5dac977a-6cfb-4283-a247-9478beca6bce|Centro      |0.008500492|\n",
            "|a1c430e5-fe77-4b0f-a08c-001f57f11f89|Centro      |0.011903712|\n",
            "|33aeb3e6-f85d-49b0-a758-c5252c5623e6|Centro      |0.019963495|\n",
            "|a99baaa1-00ef-4906-8903-3f8a38a06385|Centro      |0.028192494|\n",
            "|9bff3d1a-b865-4652-9b87-e26b3faf5c79|Centro      |0.037412748|\n",
            "|d4b24d12-383c-4379-9ecb-89906f7dbba9|Centro      |0.037550464|\n",
            "|d187d98b-2291-4865-8225-58497cc101c9|Santo Cristo|0.040353443|\n",
            "|b3d1d649-f026-48ac-a0a5-dbb14ada1f61|Centro      |0.04079916 |\n",
            "|1238503b-dbbc-4664-a48b-e94195624404|Santo Cristo|0.04395238 |\n",
            "|562af84b-6b6d-4220-b79b-426a79148cb9|Santo Cristo|0.04501169 |\n",
            "|3fe19ed1-3b37-4ac9-8b2e-a8b8f27e25d6|Santo Cristo|0.04573038 |\n",
            "|63b14166-0cd2-40fa-878d-51d3fae968e0|Santo Cristo|0.046704866|\n",
            "|6509131b-e29b-4539-9da5-80bf925dae90|Santo Cristo|0.047594856|\n",
            "|e8f9fbbc-d072-499e-bfa7-926fca750057|Centro      |0.049280133|\n",
            "|d24b80d8-32d4-4789-9813-6d6526b460ae|Centro      |0.050526254|\n",
            "|08787538-60fc-4b49-b218-dfa2f31e41c5|Centro      |0.052758947|\n",
            "|d4a64276-c147-4b39-b5ce-19d03fbdb744|Centro      |0.053422406|\n",
            "|b0bb4c93-46c1-47de-99c7-056a42772a8b|Centro      |0.055533733|\n",
            "|e185f59b-1e53-426b-a14a-03f380c5d57d|Centro      |0.05607621 |\n",
            "+------------------------------------+------------+-----------+\n",
            "only showing top 20 rows\n",
            "\n"
          ]
        }
      ]
    },
    {
      "cell_type": "code",
      "source": [
        "#criando a função recomendadora\n",
        "def recomendador(id):\n",
        "  cluster = prections_kmeans.filter(prections_kmeans.id == id).select('cluster_pca').collect()[0][0]\n",
        "  imoveis_recomendados = prections_kmeans.filter(prections_kmeans.cluster_pca == cluster)\n",
        "  componentes = imoveis_recomendados.filter(imoveis_recomendados.id == id).select('pca_features').collect()[0][0]\n",
        "  udf_calcula_distance = f.udf(calcula_distance, FloatType())\n",
        "  imoveis_recomendados_dist = imoveis_recomendados.withColumn('Dist', udf_calcula_distance('pca_features'))\n",
        "  recomendados = imoveis_recomendados_dist.select('id', 'bairro', 'area_util', 'valor', 'Zona Central', 'Zona Norte', 'Zona Oeste', 'Zona Sul', 'Dist').sort('Dist')\n",
        "  recomendados.show(truncate=False)"
      ],
      "metadata": {
        "id": "82TP7uoOdqGT"
      },
      "execution_count": 39,
      "outputs": []
    },
    {
      "cell_type": "code",
      "source": [
        "#utilizando o mesmo id na função recomendadora\n",
        "recomendador('00002dd9-cc74-4809-b5a5-850adf0e7526')"
      ],
      "metadata": {
        "colab": {
          "base_uri": "https://localhost:8080/"
        },
        "id": "8MOoPCe_fw3l",
        "outputId": "796d3982-d78c-4718-f171-d40ffd0e5b07"
      },
      "execution_count": 40,
      "outputs": [
        {
          "output_type": "stream",
          "name": "stdout",
          "text": [
            "+------------------------------------+------------+---------+--------+------------+----------+----------+--------+-----------+\n",
            "|id                                  |bairro      |area_util|valor   |Zona Central|Zona Norte|Zona Oeste|Zona Sul|Dist       |\n",
            "+------------------------------------+------------+---------+--------+------------+----------+----------+--------+-----------+\n",
            "|00002dd9-cc74-4809-b5a5-850adf0e7526|Santo Cristo|35       |245000.0|1           |0         |0         |0       |0.0        |\n",
            "|5dac977a-6cfb-4283-a247-9478beca6bce|Centro      |32       |276500.0|1           |0         |0         |0       |0.008500492|\n",
            "|a1c430e5-fe77-4b0f-a08c-001f57f11f89|Centro      |31       |315926.0|1           |0         |0         |0       |0.011903712|\n",
            "|33aeb3e6-f85d-49b0-a758-c5252c5623e6|Centro      |33       |331787.0|1           |0         |0         |0       |0.019963495|\n",
            "|a99baaa1-00ef-4906-8903-3f8a38a06385|Centro      |29       |269900.0|1           |0         |0         |0       |0.028192494|\n",
            "|9bff3d1a-b865-4652-9b87-e26b3faf5c79|Centro      |31       |305750.0|1           |0         |0         |0       |0.037412748|\n",
            "|d4b24d12-383c-4379-9ecb-89906f7dbba9|Centro      |30       |303765.0|1           |0         |0         |0       |0.037550464|\n",
            "|d187d98b-2291-4865-8225-58497cc101c9|Santo Cristo|32       |277000.0|1           |0         |0         |0       |0.040353443|\n",
            "|b3d1d649-f026-48ac-a0a5-dbb14ada1f61|Centro      |40       |269900.0|1           |0         |0         |0       |0.04079916 |\n",
            "|1238503b-dbbc-4664-a48b-e94195624404|Santo Cristo|34       |239999.0|1           |0         |0         |0       |0.04395238 |\n",
            "|562af84b-6b6d-4220-b79b-426a79148cb9|Santo Cristo|35       |255900.0|1           |0         |0         |0       |0.04501169 |\n",
            "|3fe19ed1-3b37-4ac9-8b2e-a8b8f27e25d6|Santo Cristo|35       |263130.0|1           |0         |0         |0       |0.04573038 |\n",
            "|63b14166-0cd2-40fa-878d-51d3fae968e0|Santo Cristo|35       |273500.0|1           |0         |0         |0       |0.046704866|\n",
            "|6509131b-e29b-4539-9da5-80bf925dae90|Santo Cristo|35       |280000.0|1           |0         |0         |0       |0.047594856|\n",
            "|e8f9fbbc-d072-499e-bfa7-926fca750057|Centro      |32       |281000.0|1           |0         |0         |0       |0.049280133|\n",
            "|d24b80d8-32d4-4789-9813-6d6526b460ae|Centro      |32       |299000.0|1           |0         |0         |0       |0.050526254|\n",
            "|08787538-60fc-4b49-b218-dfa2f31e41c5|Centro      |32       |320000.0|1           |0         |0         |0       |0.052758947|\n",
            "|d4a64276-c147-4b39-b5ce-19d03fbdb744|Centro      |37       |378087.0|1           |0         |0         |0       |0.053422406|\n",
            "|b0bb4c93-46c1-47de-99c7-056a42772a8b|Centro      |32       |340000.0|1           |0         |0         |0       |0.055533733|\n",
            "|e185f59b-1e53-426b-a14a-03f380c5d57d|Centro      |36       |365145.0|1           |0         |0         |0       |0.05607621 |\n",
            "+------------------------------------+------------+---------+--------+------------+----------+----------+--------+-----------+\n",
            "only showing top 20 rows\n",
            "\n"
          ]
        }
      ]
    }
  ]
}